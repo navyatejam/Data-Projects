{
 "cells": [
  {
   "cell_type": "code",
   "execution_count": 1,
   "metadata": {},
   "outputs": [],
   "source": [
    "import numpy as np\n",
    "import pandas as pd\n",
    "import matplotlib.pyplot as plt\n",
    "import seaborn as sns"
   ]
  },
  {
   "cell_type": "code",
   "execution_count": 158,
   "metadata": {},
   "outputs": [
    {
     "data": {
      "text/html": [
       "<div>\n",
       "<style scoped>\n",
       "    .dataframe tbody tr th:only-of-type {\n",
       "        vertical-align: middle;\n",
       "    }\n",
       "\n",
       "    .dataframe tbody tr th {\n",
       "        vertical-align: top;\n",
       "    }\n",
       "\n",
       "    .dataframe thead th {\n",
       "        text-align: right;\n",
       "    }\n",
       "</style>\n",
       "<table border=\"1\" class=\"dataframe\">\n",
       "  <thead>\n",
       "    <tr style=\"text-align: right;\">\n",
       "      <th></th>\n",
       "      <th>Employee_Name</th>\n",
       "      <th>MarriedID</th>\n",
       "      <th>MaritalStatusID</th>\n",
       "      <th>GenderID</th>\n",
       "      <th>EmpStatusID</th>\n",
       "      <th>DeptID</th>\n",
       "      <th>PerfScoreID</th>\n",
       "      <th>FromDiversityJobFairID</th>\n",
       "      <th>Salary</th>\n",
       "      <th>Termd</th>\n",
       "      <th>...</th>\n",
       "      <th>ManagerName</th>\n",
       "      <th>ManagerID</th>\n",
       "      <th>RecruitmentSource</th>\n",
       "      <th>PerformanceScore</th>\n",
       "      <th>EngagementSurvey</th>\n",
       "      <th>EmpSatisfaction</th>\n",
       "      <th>SpecialProjectsCount</th>\n",
       "      <th>LastPerformanceReview_Date</th>\n",
       "      <th>DaysLateLast30</th>\n",
       "      <th>Absences</th>\n",
       "    </tr>\n",
       "    <tr>\n",
       "      <th>EmpID</th>\n",
       "      <th></th>\n",
       "      <th></th>\n",
       "      <th></th>\n",
       "      <th></th>\n",
       "      <th></th>\n",
       "      <th></th>\n",
       "      <th></th>\n",
       "      <th></th>\n",
       "      <th></th>\n",
       "      <th></th>\n",
       "      <th></th>\n",
       "      <th></th>\n",
       "      <th></th>\n",
       "      <th></th>\n",
       "      <th></th>\n",
       "      <th></th>\n",
       "      <th></th>\n",
       "      <th></th>\n",
       "      <th></th>\n",
       "      <th></th>\n",
       "      <th></th>\n",
       "    </tr>\n",
       "  </thead>\n",
       "  <tbody>\n",
       "    <tr>\n",
       "      <th>10026</th>\n",
       "      <td>Adinolfi, Wilson  K</td>\n",
       "      <td>0</td>\n",
       "      <td>0</td>\n",
       "      <td>1</td>\n",
       "      <td>1</td>\n",
       "      <td>5</td>\n",
       "      <td>4</td>\n",
       "      <td>0</td>\n",
       "      <td>62506</td>\n",
       "      <td>0</td>\n",
       "      <td>...</td>\n",
       "      <td>Michael Albert</td>\n",
       "      <td>22.0</td>\n",
       "      <td>LinkedIn</td>\n",
       "      <td>Exceeds</td>\n",
       "      <td>4.60</td>\n",
       "      <td>5</td>\n",
       "      <td>0</td>\n",
       "      <td>1/17/2019</td>\n",
       "      <td>0</td>\n",
       "      <td>1</td>\n",
       "    </tr>\n",
       "    <tr>\n",
       "      <th>10084</th>\n",
       "      <td>Ait Sidi, Karthikeyan</td>\n",
       "      <td>1</td>\n",
       "      <td>1</td>\n",
       "      <td>1</td>\n",
       "      <td>5</td>\n",
       "      <td>3</td>\n",
       "      <td>3</td>\n",
       "      <td>0</td>\n",
       "      <td>104437</td>\n",
       "      <td>1</td>\n",
       "      <td>...</td>\n",
       "      <td>Simon Roup</td>\n",
       "      <td>4.0</td>\n",
       "      <td>Indeed</td>\n",
       "      <td>Fully Meets</td>\n",
       "      <td>4.96</td>\n",
       "      <td>3</td>\n",
       "      <td>6</td>\n",
       "      <td>2/24/2016</td>\n",
       "      <td>0</td>\n",
       "      <td>17</td>\n",
       "    </tr>\n",
       "    <tr>\n",
       "      <th>10196</th>\n",
       "      <td>Akinkuolie, Sarah</td>\n",
       "      <td>1</td>\n",
       "      <td>1</td>\n",
       "      <td>0</td>\n",
       "      <td>5</td>\n",
       "      <td>5</td>\n",
       "      <td>3</td>\n",
       "      <td>0</td>\n",
       "      <td>64955</td>\n",
       "      <td>1</td>\n",
       "      <td>...</td>\n",
       "      <td>Kissy Sullivan</td>\n",
       "      <td>20.0</td>\n",
       "      <td>LinkedIn</td>\n",
       "      <td>Fully Meets</td>\n",
       "      <td>3.02</td>\n",
       "      <td>3</td>\n",
       "      <td>0</td>\n",
       "      <td>5/15/2012</td>\n",
       "      <td>0</td>\n",
       "      <td>3</td>\n",
       "    </tr>\n",
       "    <tr>\n",
       "      <th>10088</th>\n",
       "      <td>Alagbe,Trina</td>\n",
       "      <td>1</td>\n",
       "      <td>1</td>\n",
       "      <td>0</td>\n",
       "      <td>1</td>\n",
       "      <td>5</td>\n",
       "      <td>3</td>\n",
       "      <td>0</td>\n",
       "      <td>64991</td>\n",
       "      <td>0</td>\n",
       "      <td>...</td>\n",
       "      <td>Elijiah Gray</td>\n",
       "      <td>16.0</td>\n",
       "      <td>Indeed</td>\n",
       "      <td>Fully Meets</td>\n",
       "      <td>4.84</td>\n",
       "      <td>5</td>\n",
       "      <td>0</td>\n",
       "      <td>1/3/2019</td>\n",
       "      <td>0</td>\n",
       "      <td>15</td>\n",
       "    </tr>\n",
       "    <tr>\n",
       "      <th>10069</th>\n",
       "      <td>Anderson, Carol</td>\n",
       "      <td>0</td>\n",
       "      <td>2</td>\n",
       "      <td>0</td>\n",
       "      <td>5</td>\n",
       "      <td>5</td>\n",
       "      <td>3</td>\n",
       "      <td>0</td>\n",
       "      <td>50825</td>\n",
       "      <td>1</td>\n",
       "      <td>...</td>\n",
       "      <td>Webster Butler</td>\n",
       "      <td>39.0</td>\n",
       "      <td>Google Search</td>\n",
       "      <td>Fully Meets</td>\n",
       "      <td>5.00</td>\n",
       "      <td>4</td>\n",
       "      <td>0</td>\n",
       "      <td>2/1/2016</td>\n",
       "      <td>0</td>\n",
       "      <td>2</td>\n",
       "    </tr>\n",
       "  </tbody>\n",
       "</table>\n",
       "<p>5 rows × 35 columns</p>\n",
       "</div>"
      ],
      "text/plain": [
       "                  Employee_Name  MarriedID  MaritalStatusID  GenderID  \\\n",
       "EmpID                                                                   \n",
       "10026       Adinolfi, Wilson  K          0                0         1   \n",
       "10084  Ait Sidi, Karthikeyan             1                1         1   \n",
       "10196         Akinkuolie, Sarah          1                1         0   \n",
       "10088              Alagbe,Trina          1                1         0   \n",
       "10069          Anderson, Carol           0                2         0   \n",
       "\n",
       "       EmpStatusID  DeptID  PerfScoreID  FromDiversityJobFairID  Salary  \\\n",
       "EmpID                                                                     \n",
       "10026            1       5            4                       0   62506   \n",
       "10084            5       3            3                       0  104437   \n",
       "10196            5       5            3                       0   64955   \n",
       "10088            1       5            3                       0   64991   \n",
       "10069            5       5            3                       0   50825   \n",
       "\n",
       "       Termd  ...     ManagerName ManagerID RecruitmentSource  \\\n",
       "EmpID         ...                                               \n",
       "10026      0  ...  Michael Albert      22.0          LinkedIn   \n",
       "10084      1  ...      Simon Roup       4.0            Indeed   \n",
       "10196      1  ...  Kissy Sullivan      20.0          LinkedIn   \n",
       "10088      0  ...    Elijiah Gray      16.0            Indeed   \n",
       "10069      1  ...  Webster Butler      39.0     Google Search   \n",
       "\n",
       "       PerformanceScore EngagementSurvey EmpSatisfaction SpecialProjectsCount  \\\n",
       "EmpID                                                                           \n",
       "10026           Exceeds             4.60               5                    0   \n",
       "10084       Fully Meets             4.96               3                    6   \n",
       "10196       Fully Meets             3.02               3                    0   \n",
       "10088       Fully Meets             4.84               5                    0   \n",
       "10069       Fully Meets             5.00               4                    0   \n",
       "\n",
       "      LastPerformanceReview_Date DaysLateLast30 Absences  \n",
       "EmpID                                                     \n",
       "10026                  1/17/2019              0        1  \n",
       "10084                  2/24/2016              0       17  \n",
       "10196                  5/15/2012              0        3  \n",
       "10088                   1/3/2019              0       15  \n",
       "10069                   2/1/2016              0        2  \n",
       "\n",
       "[5 rows x 35 columns]"
      ]
     },
     "execution_count": 158,
     "metadata": {},
     "output_type": "execute_result"
    }
   ],
   "source": [
    "df=pd.read_csv('data/HRDataset_v14.csv',index_col='EmpID')\n",
    "df.head()"
   ]
  },
  {
   "cell_type": "code",
   "execution_count": 22,
   "metadata": {},
   "outputs": [
    {
     "name": "stdout",
     "output_type": "stream",
     "text": [
      "<class 'pandas.core.frame.DataFrame'>\n",
      "Int64Index: 311 entries, 10026 to 10271\n",
      "Data columns (total 35 columns):\n",
      " #   Column                      Non-Null Count  Dtype  \n",
      "---  ------                      --------------  -----  \n",
      " 0   Employee_Name               311 non-null    object \n",
      " 1   MarriedID                   311 non-null    int64  \n",
      " 2   MaritalStatusID             311 non-null    int64  \n",
      " 3   GenderID                    311 non-null    int64  \n",
      " 4   EmpStatusID                 311 non-null    int64  \n",
      " 5   DeptID                      311 non-null    int64  \n",
      " 6   PerfScoreID                 311 non-null    int64  \n",
      " 7   FromDiversityJobFairID      311 non-null    int64  \n",
      " 8   Salary                      311 non-null    int64  \n",
      " 9   Termd                       311 non-null    int64  \n",
      " 10  PositionID                  311 non-null    int64  \n",
      " 11  Position                    311 non-null    object \n",
      " 12  State                       311 non-null    object \n",
      " 13  Zip                         311 non-null    int64  \n",
      " 14  DOB                         311 non-null    object \n",
      " 15  Sex                         311 non-null    object \n",
      " 16  MaritalDesc                 311 non-null    object \n",
      " 17  CitizenDesc                 311 non-null    object \n",
      " 18  HispanicLatino              311 non-null    object \n",
      " 19  RaceDesc                    311 non-null    object \n",
      " 20  DateofHire                  311 non-null    object \n",
      " 21  DateofTermination           104 non-null    object \n",
      " 22  TermReason                  311 non-null    object \n",
      " 23  EmploymentStatus            311 non-null    object \n",
      " 24  Department                  311 non-null    object \n",
      " 25  ManagerName                 311 non-null    object \n",
      " 26  ManagerID                   303 non-null    float64\n",
      " 27  RecruitmentSource           311 non-null    object \n",
      " 28  PerformanceScore            311 non-null    object \n",
      " 29  EngagementSurvey            311 non-null    float64\n",
      " 30  EmpSatisfaction             311 non-null    int64  \n",
      " 31  SpecialProjectsCount        311 non-null    int64  \n",
      " 32  LastPerformanceReview_Date  311 non-null    object \n",
      " 33  DaysLateLast30              311 non-null    int64  \n",
      " 34  Absences                    311 non-null    int64  \n",
      "dtypes: float64(2), int64(15), object(18)\n",
      "memory usage: 95.6+ KB\n"
     ]
    }
   ],
   "source": [
    "df.info()"
   ]
  },
  {
   "cell_type": "code",
   "execution_count": 20,
   "metadata": {},
   "outputs": [
    {
     "data": {
      "text/plain": [
       "array(['Production       ', 'IT/IS', 'Software Engineering',\n",
       "       'Admin Offices', 'Sales', 'Executive Office'], dtype=object)"
      ]
     },
     "execution_count": 20,
     "metadata": {},
     "output_type": "execute_result"
    }
   ],
   "source": [
    "df['Department'].unique()"
   ]
  },
  {
   "cell_type": "code",
   "execution_count": 95,
   "metadata": {},
   "outputs": [
    {
     "data": {
      "text/plain": [
       "Department\n",
       "Production               59953.545455\n",
       "Sales                    69061.258065\n",
       "Admin Offices            71791.888889\n",
       "Software Engineering     94989.454545\n",
       "IT/IS                    97064.640000\n",
       "Executive Office        250000.000000\n",
       "Name: Salary, dtype: float64"
      ]
     },
     "execution_count": 95,
     "metadata": {},
     "output_type": "execute_result"
    }
   ],
   "source": [
    "salary_dept_mean=df.groupby('Department')['Salary'].mean()\n",
    "salary_dept_mean=salary_dept_mean.sort_values();salary_dept_mean\n"
   ]
  },
  {
   "cell_type": "code",
   "execution_count": 142,
   "metadata": {},
   "outputs": [
    {
     "data": {
      "image/png": "[encoded data removed]",
      "text/plain": [
       "<Figure size 432x288 with 1 Axes>"
      ]
     },
     "metadata": {
      "needs_background": "light"
     },
     "output_type": "display_data"
    }
   ],
   "source": [
    "pd.DataFrame(salary_dept_mean)\n",
    "ax = sns.barplot(y=salary_dept_mean.index,x=salary_dept_mean,palette='GnBu_d')\n"
   ]
  },
  {
   "cell_type": "code",
   "execution_count": 102,
   "metadata": {},
   "outputs": [
    {
     "data": {
      "text/plain": [
       "EmpID\n",
       "10089    President & CEO\n",
       "Name: Position, dtype: object"
      ]
     },
     "execution_count": 102,
     "metadata": {},
     "output_type": "execute_result"
    }
   ],
   "source": [
    "df[df['Department']=='Executive Office']['Position']"
   ]
  },
  {
   "cell_type": "markdown",
   "metadata": {},
   "source": [
    "### While it appears that \"Employees\" of the executive office have the highest salaries, this is misleading as there is just one employee in the executive office and it is the President/CEO. \n",
    "### Among the other departments , employees of the Software Engineering and IT/IS departments have the highest average pay."
   ]
  },
  {
   "cell_type": "markdown",
   "metadata": {},
   "source": [
    "# Diversity Profile"
   ]
  },
  {
   "cell_type": "code",
   "execution_count": 154,
   "metadata": {},
   "outputs": [
    {
     "name": "stdout",
     "output_type": "stream",
     "text": [
      "RaceDesc\n",
      "Hispanic                              1\n",
      "American Indian or Alaska Native      3\n",
      "Two or more races                    11\n",
      "Asian                                29\n",
      "Black or African American            80\n",
      "White                               187\n",
      "Name: Employee_Name, dtype: int64\n"
     ]
    },
    {
     "data": {
      "image/png": "[encoded data removed]",
      "text/plain": [
       "<Figure size 432x288 with 1 Axes>"
      ]
     },
     "metadata": {
      "needs_background": "light"
     },
     "output_type": "display_data"
    }
   ],
   "source": [
    "diversity_counts=df.groupby('RaceDesc')['Employee_Name'].count()\n",
    "diversity_counts=diversity_counts.sort_values();\n",
    "print(diversity_counts)\n",
    "\n",
    "ax = sns.barplot(y=diversity_counts.index,x=diversity_counts,palette='GnBu_d')\n",
    "ax.set(xlabel='Number of Employees', ylabel='Race')\n",
    "plt.show()"
   ]
  },
  {
   "cell_type": "markdown",
   "metadata": {},
   "source": [
    "### This paints a troubling picture as there is just a single employee identifying as Hispanic, but a closer look at the 'HispanicLatino' column reveals a more nuanced situation."
   ]
  },
  {
   "cell_type": "code",
   "execution_count": 162,
   "metadata": {},
   "outputs": [
    {
     "data": {
      "text/plain": [
       "27"
      ]
     },
     "execution_count": 162,
     "metadata": {},
     "output_type": "execute_result"
    }
   ],
   "source": [
    "df[df['HispanicLatino']=='Yes']['HispanicLatino'].count()"
   ]
  },
  {
   "cell_type": "markdown",
   "metadata": {},
   "source": [
    "### Even though there is only one person whose Race description is 'Hispanic', we see that 27 employees identify as Hispanic or Latino. "
   ]
  },
  {
   "cell_type": "markdown",
   "metadata": {},
   "source": [
    "### Now let us see the mean salary of employees by race"
   ]
  },
  {
   "cell_type": "code",
   "execution_count": 164,
   "metadata": {},
   "outputs": [
    {
     "name": "stdout",
     "output_type": "stream",
     "text": [
      "RaceDesc\n",
      "Two or more races                   59998.181818\n",
      "American Indian or Alaska Native    65806.000000\n",
      "White                               67287.545455\n",
      "Asian                               68521.206897\n",
      "Black or African American           74431.025000\n",
      "Hispanic                            83667.000000\n",
      "Name: Salary, dtype: float64\n"
     ]
    },
    {
     "data": {
      "image/png": "[encoded data removed]",
      "text/plain": [
       "<Figure size 432x288 with 1 Axes>"
      ]
     },
     "metadata": {
      "needs_background": "light"
     },
     "output_type": "display_data"
    }
   ],
   "source": [
    "salary_race_mean=df.groupby('RaceDesc')['Salary'].mean()\n",
    "salary_race_mean=salary_race_mean.sort_values();\n",
    "print(salary_race_mean)\n",
    "\n",
    "ax = sns.barplot(y=salary_race_mean.index,x=salary_race_mean,palette='GnBu_d')\n",
    "ax.set(xlabel='Mean Salary', ylabel='Race')\n",
    "plt.show()"
   ]
  },
  {
   "cell_type": "code",
   "execution_count": null,
   "metadata": {},
   "outputs": [],
   "source": []
  }
 ],
 "metadata": {
  "kernelspec": {
   "display_name": "Python 3",
   "language": "python",
   "name": "python3"
  },
  "language_info": {
   "codemirror_mode": {
    "name": "ipython",
    "version": 3
   },
   "file_extension": ".py",
   "mimetype": "text/x-python",
   "name": "python",
   "nbconvert_exporter": "python",
   "pygments_lexer": "ipython3",
   "version": "3.8.5"
  }
 },
 "nbformat": 4,
 "nbformat_minor": 4
}
