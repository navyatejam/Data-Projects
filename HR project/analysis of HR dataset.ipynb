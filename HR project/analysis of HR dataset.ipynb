{
 "cells": [
  {
   "cell_type": "markdown",
   "metadata": {},
   "source": [
    "# Analysis of HR dataset\n",
    "###### (https://www.kaggle.com/rhuebner/human-resources-data-set?select=HRDataset_v14.csv)"
   ]
  },
  {
   "cell_type": "markdown",
   "metadata": {},
   "source": [
    "### 1. Is there any relationship between who a person works for and their performance score?\n",
    "### 2.What is the overall diversity profile of the organization?\n",
    "### 3.What are our best recruiting sources if we want to ensure a diverse organization?\n",
    "### 4.Can we predict who is going to terminate and who isn't? What level of accuracy can we achieve on this?\n",
    "### 5.Are there areas of the company where pay is not equitable?\n"
   ]
  },
  {
   "cell_type": "code",
   "execution_count": 36,
   "metadata": {},
   "outputs": [],
   "source": [
    "import numpy as np\n",
    "import pandas as pd\n",
    "import matplotlib.pyplot as plt\n",
    "import seaborn as sns"
   ]
  },
  {
   "cell_type": "code",
   "execution_count": 82,
   "metadata": {},
   "outputs": [
    {
     "data": {
      "text/html": [
       "<div>\n",
       "<style scoped>\n",
       "    .dataframe tbody tr th:only-of-type {\n",
       "        vertical-align: middle;\n",
       "    }\n",
       "\n",
       "    .dataframe tbody tr th {\n",
       "        vertical-align: top;\n",
       "    }\n",
       "\n",
       "    .dataframe thead th {\n",
       "        text-align: right;\n",
       "    }\n",
       "</style>\n",
       "<table border=\"1\" class=\"dataframe\">\n",
       "  <thead>\n",
       "    <tr style=\"text-align: right;\">\n",
       "      <th></th>\n",
       "      <th>Employee_Name</th>\n",
       "      <th>MarriedID</th>\n",
       "      <th>MaritalStatusID</th>\n",
       "      <th>GenderID</th>\n",
       "      <th>EmpStatusID</th>\n",
       "      <th>DeptID</th>\n",
       "      <th>PerfScoreID</th>\n",
       "      <th>FromDiversityJobFairID</th>\n",
       "      <th>Salary</th>\n",
       "      <th>Termd</th>\n",
       "      <th>...</th>\n",
       "      <th>ManagerName</th>\n",
       "      <th>ManagerID</th>\n",
       "      <th>RecruitmentSource</th>\n",
       "      <th>PerformanceScore</th>\n",
       "      <th>EngagementSurvey</th>\n",
       "      <th>EmpSatisfaction</th>\n",
       "      <th>SpecialProjectsCount</th>\n",
       "      <th>LastPerformanceReview_Date</th>\n",
       "      <th>DaysLateLast30</th>\n",
       "      <th>Absences</th>\n",
       "    </tr>\n",
       "    <tr>\n",
       "      <th>EmpID</th>\n",
       "      <th></th>\n",
       "      <th></th>\n",
       "      <th></th>\n",
       "      <th></th>\n",
       "      <th></th>\n",
       "      <th></th>\n",
       "      <th></th>\n",
       "      <th></th>\n",
       "      <th></th>\n",
       "      <th></th>\n",
       "      <th></th>\n",
       "      <th></th>\n",
       "      <th></th>\n",
       "      <th></th>\n",
       "      <th></th>\n",
       "      <th></th>\n",
       "      <th></th>\n",
       "      <th></th>\n",
       "      <th></th>\n",
       "      <th></th>\n",
       "      <th></th>\n",
       "    </tr>\n",
       "  </thead>\n",
       "  <tbody>\n",
       "    <tr>\n",
       "      <th>10026</th>\n",
       "      <td>Adinolfi, Wilson  K</td>\n",
       "      <td>0</td>\n",
       "      <td>0</td>\n",
       "      <td>1</td>\n",
       "      <td>1</td>\n",
       "      <td>5</td>\n",
       "      <td>4</td>\n",
       "      <td>0</td>\n",
       "      <td>62506</td>\n",
       "      <td>0</td>\n",
       "      <td>...</td>\n",
       "      <td>Michael Albert</td>\n",
       "      <td>22.0</td>\n",
       "      <td>LinkedIn</td>\n",
       "      <td>Exceeds</td>\n",
       "      <td>4.60</td>\n",
       "      <td>5</td>\n",
       "      <td>0</td>\n",
       "      <td>1/17/2019</td>\n",
       "      <td>0</td>\n",
       "      <td>1</td>\n",
       "    </tr>\n",
       "    <tr>\n",
       "      <th>10084</th>\n",
       "      <td>Ait Sidi, Karthikeyan</td>\n",
       "      <td>1</td>\n",
       "      <td>1</td>\n",
       "      <td>1</td>\n",
       "      <td>5</td>\n",
       "      <td>3</td>\n",
       "      <td>3</td>\n",
       "      <td>0</td>\n",
       "      <td>104437</td>\n",
       "      <td>1</td>\n",
       "      <td>...</td>\n",
       "      <td>Simon Roup</td>\n",
       "      <td>4.0</td>\n",
       "      <td>Indeed</td>\n",
       "      <td>Fully Meets</td>\n",
       "      <td>4.96</td>\n",
       "      <td>3</td>\n",
       "      <td>6</td>\n",
       "      <td>2/24/2016</td>\n",
       "      <td>0</td>\n",
       "      <td>17</td>\n",
       "    </tr>\n",
       "    <tr>\n",
       "      <th>10196</th>\n",
       "      <td>Akinkuolie, Sarah</td>\n",
       "      <td>1</td>\n",
       "      <td>1</td>\n",
       "      <td>0</td>\n",
       "      <td>5</td>\n",
       "      <td>5</td>\n",
       "      <td>3</td>\n",
       "      <td>0</td>\n",
       "      <td>64955</td>\n",
       "      <td>1</td>\n",
       "      <td>...</td>\n",
       "      <td>Kissy Sullivan</td>\n",
       "      <td>20.0</td>\n",
       "      <td>LinkedIn</td>\n",
       "      <td>Fully Meets</td>\n",
       "      <td>3.02</td>\n",
       "      <td>3</td>\n",
       "      <td>0</td>\n",
       "      <td>5/15/2012</td>\n",
       "      <td>0</td>\n",
       "      <td>3</td>\n",
       "    </tr>\n",
       "    <tr>\n",
       "      <th>10088</th>\n",
       "      <td>Alagbe,Trina</td>\n",
       "      <td>1</td>\n",
       "      <td>1</td>\n",
       "      <td>0</td>\n",
       "      <td>1</td>\n",
       "      <td>5</td>\n",
       "      <td>3</td>\n",
       "      <td>0</td>\n",
       "      <td>64991</td>\n",
       "      <td>0</td>\n",
       "      <td>...</td>\n",
       "      <td>Elijiah Gray</td>\n",
       "      <td>16.0</td>\n",
       "      <td>Indeed</td>\n",
       "      <td>Fully Meets</td>\n",
       "      <td>4.84</td>\n",
       "      <td>5</td>\n",
       "      <td>0</td>\n",
       "      <td>1/3/2019</td>\n",
       "      <td>0</td>\n",
       "      <td>15</td>\n",
       "    </tr>\n",
       "    <tr>\n",
       "      <th>10069</th>\n",
       "      <td>Anderson, Carol</td>\n",
       "      <td>0</td>\n",
       "      <td>2</td>\n",
       "      <td>0</td>\n",
       "      <td>5</td>\n",
       "      <td>5</td>\n",
       "      <td>3</td>\n",
       "      <td>0</td>\n",
       "      <td>50825</td>\n",
       "      <td>1</td>\n",
       "      <td>...</td>\n",
       "      <td>Webster Butler</td>\n",
       "      <td>39.0</td>\n",
       "      <td>Google Search</td>\n",
       "      <td>Fully Meets</td>\n",
       "      <td>5.00</td>\n",
       "      <td>4</td>\n",
       "      <td>0</td>\n",
       "      <td>2/1/2016</td>\n",
       "      <td>0</td>\n",
       "      <td>2</td>\n",
       "    </tr>\n",
       "  </tbody>\n",
       "</table>\n",
       "<p>5 rows × 35 columns</p>\n",
       "</div>"
      ],
      "text/plain": [
       "                  Employee_Name  MarriedID  MaritalStatusID  GenderID  \\\n",
       "EmpID                                                                   \n",
       "10026       Adinolfi, Wilson  K          0                0         1   \n",
       "10084  Ait Sidi, Karthikeyan             1                1         1   \n",
       "10196         Akinkuolie, Sarah          1                1         0   \n",
       "10088              Alagbe,Trina          1                1         0   \n",
       "10069          Anderson, Carol           0                2         0   \n",
       "\n",
       "       EmpStatusID  DeptID  PerfScoreID  FromDiversityJobFairID  Salary  \\\n",
       "EmpID                                                                     \n",
       "10026            1       5            4                       0   62506   \n",
       "10084            5       3            3                       0  104437   \n",
       "10196            5       5            3                       0   64955   \n",
       "10088            1       5            3                       0   64991   \n",
       "10069            5       5            3                       0   50825   \n",
       "\n",
       "       Termd  ...     ManagerName ManagerID RecruitmentSource  \\\n",
       "EmpID         ...                                               \n",
       "10026      0  ...  Michael Albert      22.0          LinkedIn   \n",
       "10084      1  ...      Simon Roup       4.0            Indeed   \n",
       "10196      1  ...  Kissy Sullivan      20.0          LinkedIn   \n",
       "10088      0  ...    Elijiah Gray      16.0            Indeed   \n",
       "10069      1  ...  Webster Butler      39.0     Google Search   \n",
       "\n",
       "       PerformanceScore EngagementSurvey EmpSatisfaction SpecialProjectsCount  \\\n",
       "EmpID                                                                           \n",
       "10026           Exceeds             4.60               5                    0   \n",
       "10084       Fully Meets             4.96               3                    6   \n",
       "10196       Fully Meets             3.02               3                    0   \n",
       "10088       Fully Meets             4.84               5                    0   \n",
       "10069       Fully Meets             5.00               4                    0   \n",
       "\n",
       "      LastPerformanceReview_Date DaysLateLast30 Absences  \n",
       "EmpID                                                     \n",
       "10026                  1/17/2019              0        1  \n",
       "10084                  2/24/2016              0       17  \n",
       "10196                  5/15/2012              0        3  \n",
       "10088                   1/3/2019              0       15  \n",
       "10069                   2/1/2016              0        2  \n",
       "\n",
       "[5 rows x 35 columns]"
      ]
     },
     "execution_count": 82,
     "metadata": {},
     "output_type": "execute_result"
    }
   ],
   "source": [
    "df=pd.read_csv('data/HRDataset_v14.csv',index_col='EmpID')\n",
    "df.head()"
   ]
  },
  {
   "cell_type": "code",
   "execution_count": 6,
   "metadata": {},
   "outputs": [
    {
     "data": {
      "text/plain": [
       "(311, 35)"
      ]
     },
     "execution_count": 6,
     "metadata": {},
     "output_type": "execute_result"
    }
   ],
   "source": [
    "df.shape"
   ]
  },
  {
   "cell_type": "code",
   "execution_count": 86,
   "metadata": {},
   "outputs": [
    {
     "data": {
      "text/plain": [
       "array(['Production Technician I', 'Sr. DBA', 'Production Technician II',\n",
       "       'Software Engineer', 'IT Support', 'Data Analyst',\n",
       "       'Database Administrator', 'Enterprise Architect', 'Sr. Accountant',\n",
       "       'Production Manager', 'Accountant I', 'Area Sales Manager',\n",
       "       'Software Engineering Manager', 'BI Director',\n",
       "       'Director of Operations', 'Sr. Network Engineer', 'Sales Manager',\n",
       "       'BI Developer', 'IT Manager - Support', 'Network Engineer',\n",
       "       'IT Director', 'Director of Sales', 'Administrative Assistant',\n",
       "       'President & CEO', 'Senior BI Developer',\n",
       "       'Shared Services Manager', 'IT Manager - Infra',\n",
       "       'Principal Data Architect', 'Data Architect', 'IT Manager - DB',\n",
       "       'Data Analyst ', 'CIO'], dtype=object)"
      ]
     },
     "execution_count": 86,
     "metadata": {},
     "output_type": "execute_result"
    }
   ],
   "source": [
    "df['Position'].unique()"
   ]
  },
  {
   "cell_type": "code",
   "execution_count": 83,
   "metadata": {
    "scrolled": true
   },
   "outputs": [
    {
     "name": "stdout",
     "output_type": "stream",
     "text": [
      "<class 'pandas.core.frame.DataFrame'>\n",
      "Int64Index: 311 entries, 10026 to 10271\n",
      "Data columns (total 35 columns):\n",
      " #   Column                      Non-Null Count  Dtype  \n",
      "---  ------                      --------------  -----  \n",
      " 0   Employee_Name               311 non-null    object \n",
      " 1   MarriedID                   311 non-null    int64  \n",
      " 2   MaritalStatusID             311 non-null    int64  \n",
      " 3   GenderID                    311 non-null    int64  \n",
      " 4   EmpStatusID                 311 non-null    int64  \n",
      " 5   DeptID                      311 non-null    int64  \n",
      " 6   PerfScoreID                 311 non-null    int64  \n",
      " 7   FromDiversityJobFairID      311 non-null    int64  \n",
      " 8   Salary                      311 non-null    int64  \n",
      " 9   Termd                       311 non-null    int64  \n",
      " 10  PositionID                  311 non-null    int64  \n",
      " 11  Position                    311 non-null    object \n",
      " 12  State                       311 non-null    object \n",
      " 13  Zip                         311 non-null    int64  \n",
      " 14  DOB                         311 non-null    object \n",
      " 15  Sex                         311 non-null    object \n",
      " 16  MaritalDesc                 311 non-null    object \n",
      " 17  CitizenDesc                 311 non-null    object \n",
      " 18  HispanicLatino              311 non-null    object \n",
      " 19  RaceDesc                    311 non-null    object \n",
      " 20  DateofHire                  311 non-null    object \n",
      " 21  DateofTermination           104 non-null    object \n",
      " 22  TermReason                  311 non-null    object \n",
      " 23  EmploymentStatus            311 non-null    object \n",
      " 24  Department                  311 non-null    object \n",
      " 25  ManagerName                 311 non-null    object \n",
      " 26  ManagerID                   303 non-null    float64\n",
      " 27  RecruitmentSource           311 non-null    object \n",
      " 28  PerformanceScore            311 non-null    object \n",
      " 29  EngagementSurvey            311 non-null    float64\n",
      " 30  EmpSatisfaction             311 non-null    int64  \n",
      " 31  SpecialProjectsCount        311 non-null    int64  \n",
      " 32  LastPerformanceReview_Date  311 non-null    object \n",
      " 33  DaysLateLast30              311 non-null    int64  \n",
      " 34  Absences                    311 non-null    int64  \n",
      "dtypes: float64(2), int64(15), object(18)\n",
      "memory usage: 87.5+ KB\n"
     ]
    }
   ],
   "source": [
    "#Find out if there's a way to see df.head() with every single column showing.\n",
    "df.info()"
   ]
  },
  {
   "cell_type": "markdown",
   "metadata": {},
   "source": [
    "### There are 311 employees with 35 attributes. There's only one column with missing values: DateofTermination, because not everyone was terminated."
   ]
  },
  {
   "cell_type": "code",
   "execution_count": 45,
   "metadata": {},
   "outputs": [
    {
     "name": "stdout",
     "output_type": "stream",
     "text": [
      "The mean absences of single employees is 9.780748663101605\n",
      "The mean absences of married employees is 10.92741935483871\n"
     ]
    }
   ],
   "source": [
    "print('The mean absences of single employees is', df[df['MarriedID']==0]['Absences'].mean())\n",
    "print('The mean absences of married employees is', df[df['MarriedID']==1]['Absences'].mean())"
   ]
  },
  {
   "cell_type": "code",
   "execution_count": 56,
   "metadata": {},
   "outputs": [
    {
     "data": {
      "text/html": [
       "<div>\n",
       "<style scoped>\n",
       "    .dataframe tbody tr th:only-of-type {\n",
       "        vertical-align: middle;\n",
       "    }\n",
       "\n",
       "    .dataframe tbody tr th {\n",
       "        vertical-align: top;\n",
       "    }\n",
       "\n",
       "    .dataframe thead th {\n",
       "        text-align: right;\n",
       "    }\n",
       "</style>\n",
       "<table border=\"1\" class=\"dataframe\">\n",
       "  <thead>\n",
       "    <tr style=\"text-align: right;\">\n",
       "      <th></th>\n",
       "      <th>Employee_Name</th>\n",
       "      <th>MarriedID</th>\n",
       "      <th>MaritalStatusID</th>\n",
       "      <th>GenderID</th>\n",
       "      <th>EmpStatusID</th>\n",
       "      <th>DeptID</th>\n",
       "      <th>PerfScoreID</th>\n",
       "      <th>FromDiversityJobFairID</th>\n",
       "      <th>Salary</th>\n",
       "      <th>Termd</th>\n",
       "      <th>...</th>\n",
       "      <th>ManagerName</th>\n",
       "      <th>ManagerID</th>\n",
       "      <th>RecruitmentSource</th>\n",
       "      <th>PerformanceScore</th>\n",
       "      <th>EngagementSurvey</th>\n",
       "      <th>EmpSatisfaction</th>\n",
       "      <th>SpecialProjectsCount</th>\n",
       "      <th>LastPerformanceReview_Date</th>\n",
       "      <th>DaysLateLast30</th>\n",
       "      <th>Absences</th>\n",
       "    </tr>\n",
       "    <tr>\n",
       "      <th>EmpID</th>\n",
       "      <th></th>\n",
       "      <th></th>\n",
       "      <th></th>\n",
       "      <th></th>\n",
       "      <th></th>\n",
       "      <th></th>\n",
       "      <th></th>\n",
       "      <th></th>\n",
       "      <th></th>\n",
       "      <th></th>\n",
       "      <th></th>\n",
       "      <th></th>\n",
       "      <th></th>\n",
       "      <th></th>\n",
       "      <th></th>\n",
       "      <th></th>\n",
       "      <th></th>\n",
       "      <th></th>\n",
       "      <th></th>\n",
       "      <th></th>\n",
       "      <th></th>\n",
       "    </tr>\n",
       "  </thead>\n",
       "  <tbody>\n",
       "    <tr>\n",
       "      <th>10026</th>\n",
       "      <td>Adinolfi, Wilson  K</td>\n",
       "      <td>0</td>\n",
       "      <td>0</td>\n",
       "      <td>1</td>\n",
       "      <td>1</td>\n",
       "      <td>5</td>\n",
       "      <td>4</td>\n",
       "      <td>0</td>\n",
       "      <td>62506</td>\n",
       "      <td>0</td>\n",
       "      <td>...</td>\n",
       "      <td>Michael Albert</td>\n",
       "      <td>22.0</td>\n",
       "      <td>LinkedIn</td>\n",
       "      <td>Exceeds</td>\n",
       "      <td>4.60</td>\n",
       "      <td>5</td>\n",
       "      <td>0</td>\n",
       "      <td>1/17/2019</td>\n",
       "      <td>0</td>\n",
       "      <td>1</td>\n",
       "    </tr>\n",
       "    <tr>\n",
       "      <th>10084</th>\n",
       "      <td>Ait Sidi, Karthikeyan</td>\n",
       "      <td>1</td>\n",
       "      <td>1</td>\n",
       "      <td>1</td>\n",
       "      <td>5</td>\n",
       "      <td>3</td>\n",
       "      <td>3</td>\n",
       "      <td>0</td>\n",
       "      <td>104437</td>\n",
       "      <td>1</td>\n",
       "      <td>...</td>\n",
       "      <td>Simon Roup</td>\n",
       "      <td>4.0</td>\n",
       "      <td>Indeed</td>\n",
       "      <td>Fully Meets</td>\n",
       "      <td>4.96</td>\n",
       "      <td>3</td>\n",
       "      <td>6</td>\n",
       "      <td>2/24/2016</td>\n",
       "      <td>0</td>\n",
       "      <td>17</td>\n",
       "    </tr>\n",
       "    <tr>\n",
       "      <th>10196</th>\n",
       "      <td>Akinkuolie, Sarah</td>\n",
       "      <td>1</td>\n",
       "      <td>1</td>\n",
       "      <td>0</td>\n",
       "      <td>5</td>\n",
       "      <td>5</td>\n",
       "      <td>3</td>\n",
       "      <td>0</td>\n",
       "      <td>64955</td>\n",
       "      <td>1</td>\n",
       "      <td>...</td>\n",
       "      <td>Kissy Sullivan</td>\n",
       "      <td>20.0</td>\n",
       "      <td>LinkedIn</td>\n",
       "      <td>Fully Meets</td>\n",
       "      <td>3.02</td>\n",
       "      <td>3</td>\n",
       "      <td>0</td>\n",
       "      <td>5/15/2012</td>\n",
       "      <td>0</td>\n",
       "      <td>3</td>\n",
       "    </tr>\n",
       "    <tr>\n",
       "      <th>10088</th>\n",
       "      <td>Alagbe,Trina</td>\n",
       "      <td>1</td>\n",
       "      <td>1</td>\n",
       "      <td>0</td>\n",
       "      <td>1</td>\n",
       "      <td>5</td>\n",
       "      <td>3</td>\n",
       "      <td>0</td>\n",
       "      <td>64991</td>\n",
       "      <td>0</td>\n",
       "      <td>...</td>\n",
       "      <td>Elijiah Gray</td>\n",
       "      <td>16.0</td>\n",
       "      <td>Indeed</td>\n",
       "      <td>Fully Meets</td>\n",
       "      <td>4.84</td>\n",
       "      <td>5</td>\n",
       "      <td>0</td>\n",
       "      <td>1/3/2019</td>\n",
       "      <td>0</td>\n",
       "      <td>15</td>\n",
       "    </tr>\n",
       "    <tr>\n",
       "      <th>10069</th>\n",
       "      <td>Anderson, Carol</td>\n",
       "      <td>0</td>\n",
       "      <td>2</td>\n",
       "      <td>0</td>\n",
       "      <td>5</td>\n",
       "      <td>5</td>\n",
       "      <td>3</td>\n",
       "      <td>0</td>\n",
       "      <td>50825</td>\n",
       "      <td>1</td>\n",
       "      <td>...</td>\n",
       "      <td>Webster Butler</td>\n",
       "      <td>39.0</td>\n",
       "      <td>Google Search</td>\n",
       "      <td>Fully Meets</td>\n",
       "      <td>5.00</td>\n",
       "      <td>4</td>\n",
       "      <td>0</td>\n",
       "      <td>2/1/2016</td>\n",
       "      <td>0</td>\n",
       "      <td>2</td>\n",
       "    </tr>\n",
       "    <tr>\n",
       "      <th>...</th>\n",
       "      <td>...</td>\n",
       "      <td>...</td>\n",
       "      <td>...</td>\n",
       "      <td>...</td>\n",
       "      <td>...</td>\n",
       "      <td>...</td>\n",
       "      <td>...</td>\n",
       "      <td>...</td>\n",
       "      <td>...</td>\n",
       "      <td>...</td>\n",
       "      <td>...</td>\n",
       "      <td>...</td>\n",
       "      <td>...</td>\n",
       "      <td>...</td>\n",
       "      <td>...</td>\n",
       "      <td>...</td>\n",
       "      <td>...</td>\n",
       "      <td>...</td>\n",
       "      <td>...</td>\n",
       "      <td>...</td>\n",
       "      <td>...</td>\n",
       "    </tr>\n",
       "    <tr>\n",
       "      <th>10135</th>\n",
       "      <td>Woodson, Jason</td>\n",
       "      <td>0</td>\n",
       "      <td>0</td>\n",
       "      <td>1</td>\n",
       "      <td>1</td>\n",
       "      <td>5</td>\n",
       "      <td>3</td>\n",
       "      <td>0</td>\n",
       "      <td>65893</td>\n",
       "      <td>0</td>\n",
       "      <td>...</td>\n",
       "      <td>Kissy Sullivan</td>\n",
       "      <td>20.0</td>\n",
       "      <td>LinkedIn</td>\n",
       "      <td>Fully Meets</td>\n",
       "      <td>4.07</td>\n",
       "      <td>4</td>\n",
       "      <td>0</td>\n",
       "      <td>2/28/2019</td>\n",
       "      <td>0</td>\n",
       "      <td>13</td>\n",
       "    </tr>\n",
       "    <tr>\n",
       "      <th>10301</th>\n",
       "      <td>Ybarra, Catherine</td>\n",
       "      <td>0</td>\n",
       "      <td>0</td>\n",
       "      <td>0</td>\n",
       "      <td>5</td>\n",
       "      <td>5</td>\n",
       "      <td>1</td>\n",
       "      <td>0</td>\n",
       "      <td>48513</td>\n",
       "      <td>1</td>\n",
       "      <td>...</td>\n",
       "      <td>Brannon Miller</td>\n",
       "      <td>12.0</td>\n",
       "      <td>Google Search</td>\n",
       "      <td>PIP</td>\n",
       "      <td>3.20</td>\n",
       "      <td>2</td>\n",
       "      <td>0</td>\n",
       "      <td>9/2/2015</td>\n",
       "      <td>5</td>\n",
       "      <td>4</td>\n",
       "    </tr>\n",
       "    <tr>\n",
       "      <th>10010</th>\n",
       "      <td>Zamora, Jennifer</td>\n",
       "      <td>0</td>\n",
       "      <td>0</td>\n",
       "      <td>0</td>\n",
       "      <td>1</td>\n",
       "      <td>3</td>\n",
       "      <td>4</td>\n",
       "      <td>0</td>\n",
       "      <td>220450</td>\n",
       "      <td>0</td>\n",
       "      <td>...</td>\n",
       "      <td>Janet King</td>\n",
       "      <td>2.0</td>\n",
       "      <td>Employee Referral</td>\n",
       "      <td>Exceeds</td>\n",
       "      <td>4.60</td>\n",
       "      <td>5</td>\n",
       "      <td>6</td>\n",
       "      <td>2/21/2019</td>\n",
       "      <td>0</td>\n",
       "      <td>16</td>\n",
       "    </tr>\n",
       "    <tr>\n",
       "      <th>10043</th>\n",
       "      <td>Zhou, Julia</td>\n",
       "      <td>0</td>\n",
       "      <td>0</td>\n",
       "      <td>0</td>\n",
       "      <td>1</td>\n",
       "      <td>3</td>\n",
       "      <td>3</td>\n",
       "      <td>0</td>\n",
       "      <td>89292</td>\n",
       "      <td>0</td>\n",
       "      <td>...</td>\n",
       "      <td>Simon Roup</td>\n",
       "      <td>4.0</td>\n",
       "      <td>Employee Referral</td>\n",
       "      <td>Fully Meets</td>\n",
       "      <td>5.00</td>\n",
       "      <td>3</td>\n",
       "      <td>5</td>\n",
       "      <td>2/1/2019</td>\n",
       "      <td>0</td>\n",
       "      <td>11</td>\n",
       "    </tr>\n",
       "    <tr>\n",
       "      <th>10271</th>\n",
       "      <td>Zima, Colleen</td>\n",
       "      <td>0</td>\n",
       "      <td>4</td>\n",
       "      <td>0</td>\n",
       "      <td>1</td>\n",
       "      <td>5</td>\n",
       "      <td>3</td>\n",
       "      <td>0</td>\n",
       "      <td>45046</td>\n",
       "      <td>0</td>\n",
       "      <td>...</td>\n",
       "      <td>David Stanley</td>\n",
       "      <td>14.0</td>\n",
       "      <td>LinkedIn</td>\n",
       "      <td>Fully Meets</td>\n",
       "      <td>4.50</td>\n",
       "      <td>5</td>\n",
       "      <td>0</td>\n",
       "      <td>1/30/2019</td>\n",
       "      <td>0</td>\n",
       "      <td>2</td>\n",
       "    </tr>\n",
       "  </tbody>\n",
       "</table>\n",
       "<p>311 rows × 35 columns</p>\n",
       "</div>"
      ],
      "text/plain": [
       "                  Employee_Name  MarriedID  MaritalStatusID  GenderID  \\\n",
       "EmpID                                                                   \n",
       "10026       Adinolfi, Wilson  K          0                0         1   \n",
       "10084  Ait Sidi, Karthikeyan             1                1         1   \n",
       "10196         Akinkuolie, Sarah          1                1         0   \n",
       "10088              Alagbe,Trina          1                1         0   \n",
       "10069          Anderson, Carol           0                2         0   \n",
       "...                         ...        ...              ...       ...   \n",
       "10135            Woodson, Jason          0                0         1   \n",
       "10301        Ybarra, Catherine           0                0         0   \n",
       "10010          Zamora, Jennifer          0                0         0   \n",
       "10043               Zhou, Julia          0                0         0   \n",
       "10271             Zima, Colleen          0                4         0   \n",
       "\n",
       "       EmpStatusID  DeptID  PerfScoreID  FromDiversityJobFairID  Salary  \\\n",
       "EmpID                                                                     \n",
       "10026            1       5            4                       0   62506   \n",
       "10084            5       3            3                       0  104437   \n",
       "10196            5       5            3                       0   64955   \n",
       "10088            1       5            3                       0   64991   \n",
       "10069            5       5            3                       0   50825   \n",
       "...            ...     ...          ...                     ...     ...   \n",
       "10135            1       5            3                       0   65893   \n",
       "10301            5       5            1                       0   48513   \n",
       "10010            1       3            4                       0  220450   \n",
       "10043            1       3            3                       0   89292   \n",
       "10271            1       5            3                       0   45046   \n",
       "\n",
       "       Termd  ...     ManagerName ManagerID  RecruitmentSource  \\\n",
       "EmpID         ...                                                \n",
       "10026      0  ...  Michael Albert      22.0           LinkedIn   \n",
       "10084      1  ...      Simon Roup       4.0             Indeed   \n",
       "10196      1  ...  Kissy Sullivan      20.0           LinkedIn   \n",
       "10088      0  ...    Elijiah Gray      16.0             Indeed   \n",
       "10069      1  ...  Webster Butler      39.0      Google Search   \n",
       "...      ...  ...             ...       ...                ...   \n",
       "10135      0  ...  Kissy Sullivan      20.0           LinkedIn   \n",
       "10301      1  ...  Brannon Miller      12.0      Google Search   \n",
       "10010      0  ...      Janet King       2.0  Employee Referral   \n",
       "10043      0  ...      Simon Roup       4.0  Employee Referral   \n",
       "10271      0  ...   David Stanley      14.0           LinkedIn   \n",
       "\n",
       "       PerformanceScore EngagementSurvey EmpSatisfaction SpecialProjectsCount  \\\n",
       "EmpID                                                                           \n",
       "10026           Exceeds             4.60               5                    0   \n",
       "10084       Fully Meets             4.96               3                    6   \n",
       "10196       Fully Meets             3.02               3                    0   \n",
       "10088       Fully Meets             4.84               5                    0   \n",
       "10069       Fully Meets             5.00               4                    0   \n",
       "...                 ...              ...             ...                  ...   \n",
       "10135       Fully Meets             4.07               4                    0   \n",
       "10301               PIP             3.20               2                    0   \n",
       "10010           Exceeds             4.60               5                    6   \n",
       "10043       Fully Meets             5.00               3                    5   \n",
       "10271       Fully Meets             4.50               5                    0   \n",
       "\n",
       "      LastPerformanceReview_Date DaysLateLast30 Absences  \n",
       "EmpID                                                     \n",
       "10026                  1/17/2019              0        1  \n",
       "10084                  2/24/2016              0       17  \n",
       "10196                  5/15/2012              0        3  \n",
       "10088                   1/3/2019              0       15  \n",
       "10069                   2/1/2016              0        2  \n",
       "...                          ...            ...      ...  \n",
       "10135                  2/28/2019              0       13  \n",
       "10301                   9/2/2015              5        4  \n",
       "10010                  2/21/2019              0       16  \n",
       "10043                   2/1/2019              0       11  \n",
       "10271                  1/30/2019              0        2  \n",
       "\n",
       "[311 rows x 35 columns]"
      ]
     },
     "execution_count": 56,
     "metadata": {},
     "output_type": "execute_result"
    }
   ],
   "source": [
    "df[df['DateofTermination']!=np.nan]"
   ]
  },
  {
   "cell_type": "code",
   "execution_count": 84,
   "metadata": {},
   "outputs": [
    {
     "data": {
      "text/plain": [
       "<AxesSubplot:xlabel='Salary', ylabel='PerfScoreID'>"
      ]
     },
     "execution_count": 84,
     "metadata": {},
     "output_type": "execute_result"
    },
    {
     "data": {
      "image/png": "[encoded data removed]",
      "text/plain": [
       "<Figure size 432x288 with 1 Axes>"
      ]
     },
     "metadata": {
      "needs_background": "light"
     },
     "output_type": "display_data"
    }
   ],
   "source": [
    "sns.scatterplot(x='Salary',y='PerfScoreID',data=df)"
   ]
  },
  {
   "cell_type": "code",
   "execution_count": 97,
   "metadata": {},
   "outputs": [
    {
     "data": {
      "text/plain": [
       "<AxesSubplot:xlabel='PerfScoreID', ylabel='count'>"
      ]
     },
     "execution_count": 97,
     "metadata": {},
     "output_type": "execute_result"
    },
    {
     "data": {
      "image/png": "[encoded data removed]",
      "text/plain": [
       "<Figure size 432x288 with 1 Axes>"
      ]
     },
     "metadata": {
      "needs_background": "light"
     },
     "output_type": "display_data"
    }
   ],
   "source": [
    "sns.countplot(x='PerfScoreID',data=df)"
   ]
  },
  {
   "cell_type": "markdown",
   "metadata": {},
   "source": [
    "### Most people have a performance score of 3. We can quantify this below"
   ]
  },
  {
   "cell_type": "code",
   "execution_count": 111,
   "metadata": {},
   "outputs": [
    {
     "data": {
      "text/plain": [
       "<BarContainer object of 4 artists>"
      ]
     },
     "execution_count": 111,
     "metadata": {},
     "output_type": "execute_result"
    },
    {
     "data": {
      "image/png": "[encoded data removed]",
      "text/plain": [
       "<Figure size 432x288 with 1 Axes>"
      ]
     },
     "metadata": {
      "needs_background": "light"
     },
     "output_type": "display_data"
    }
   ],
   "source": [
    "plt.bar(x=df.groupby(by='PerfScoreID')['Employee_Name'].count(),height=10)"
   ]
  },
  {
   "cell_type": "markdown",
   "metadata": {},
   "source": [
    "### The only people with low performance rating are those with salary 70k or less."
   ]
  },
  {
   "cell_type": "code",
   "execution_count": 88,
   "metadata": {},
   "outputs": [
    {
     "data": {
      "text/plain": [
       "68898"
      ]
     },
     "execution_count": 88,
     "metadata": {},
     "output_type": "execute_result"
    }
   ],
   "source": [
    "df[df['PerfScoreID']==1]['Salary'].max()"
   ]
  },
  {
   "cell_type": "markdown",
   "metadata": {},
   "source": [
    "### More precisely, 69k."
   ]
  },
  {
   "cell_type": "code",
   "execution_count": 69,
   "metadata": {},
   "outputs": [
    {
     "data": {
      "text/plain": [
       "TermReason\n",
       "Fatal attraction                      1\n",
       "Learned that he is a gangster         1\n",
       "gross misconduct                      1\n",
       "maternity leave - did not return      3\n",
       "medical issues                        3\n",
       "retiring                              4\n",
       "military                              4\n",
       "no-call, no-show                      4\n",
       "performance                           4\n",
       "return to school                      5\n",
       "relocation out of area                5\n",
       "attendance                            7\n",
       "hours                                 8\n",
       "career change                         9\n",
       "more money                           11\n",
       "unhappy                              14\n",
       "Another position                     20\n",
       "N/A-StillEmployed                   207\n",
       "Name: Employee_Name, dtype: int64"
      ]
     },
     "execution_count": 69,
     "metadata": {},
     "output_type": "execute_result"
    }
   ],
   "source": [
    "df.groupby(['TermReason'])['Employee_Name'].count().sort_values()"
   ]
  },
  {
   "cell_type": "markdown",
   "metadata": {},
   "source": [
    "### The average ratings of each manager."
   ]
  },
  {
   "cell_type": "code",
   "execution_count": 35,
   "metadata": {},
   "outputs": [
    {
     "data": {
      "text/plain": [
       "ManagerName\n",
       "Eric Dougall          3.250000\n",
       "Jennifer Zamora       3.142857\n",
       "Simon Roup            3.117647\n",
       "Alex Sweetwater       3.111111\n",
       "Janet King            3.105263\n",
       "Kelley Spirea         3.090909\n",
       "Ketsia Liebig         3.047619\n",
       "Brian Champaigne      3.000000\n",
       "David Stanley         3.000000\n",
       "Elijiah Gray          3.000000\n",
       "Brandon R. LeBlanc    3.000000\n",
       "Lynn Daneault         3.000000\n",
       "Board of Directors    3.000000\n",
       "Webster Butler        3.000000\n",
       "Kissy Sullivan        2.954545\n",
       "Amy Dunn              2.904762\n",
       "Michael Albert        2.863636\n",
       "Peter Monroe          2.857143\n",
       "Brannon Miller        2.818182\n",
       "John Smith            2.714286\n",
       "Debra Houlihan        2.666667\n",
       "Name: PerfScoreID, dtype: float64"
      ]
     },
     "execution_count": 35,
     "metadata": {},
     "output_type": "execute_result"
    }
   ],
   "source": [
    "df.groupby('ManagerName')['PerfScoreID'].mean().sort_values(ascending=False)"
   ]
  },
  {
   "cell_type": "code",
   "execution_count": null,
   "metadata": {},
   "outputs": [],
   "source": [
    "df.groupby('ManagerName')['PerfScoreID'].mean().sort_values"
   ]
  },
  {
   "cell_type": "markdown",
   "metadata": {},
   "source": [
    "### Overall diversity profile: Let's use GenderID, Sex and RaceDesc. Let's also stratify by salary bins"
   ]
  },
  {
   "cell_type": "code",
   "execution_count": 27,
   "metadata": {},
   "outputs": [
    {
     "data": {
      "text/plain": [
       "GenderID\n",
       "0    176\n",
       "1    135\n",
       "Name: Employee_Name, dtype: int64"
      ]
     },
     "execution_count": 27,
     "metadata": {},
     "output_type": "execute_result"
    }
   ],
   "source": [
    "df.groupby('GenderID')['Employee_Name'].count()"
   ]
  },
  {
   "cell_type": "code",
   "execution_count": 28,
   "metadata": {},
   "outputs": [
    {
     "data": {
      "text/plain": [
       "Sex\n",
       "F     176\n",
       "M     135\n",
       "Name: Employee_Name, dtype: int64"
      ]
     },
     "execution_count": 28,
     "metadata": {},
     "output_type": "execute_result"
    }
   ],
   "source": [
    "df.groupby('Sex')['Employee_Name'].count()"
   ]
  },
  {
   "cell_type": "markdown",
   "metadata": {},
   "source": [
    "### The counts for GenderID and Sex are identical. We have 176 female and 135 male employees."
   ]
  },
  {
   "cell_type": "code",
   "execution_count": 33,
   "metadata": {},
   "outputs": [
    {
     "data": {
      "text/plain": [
       "RaceDesc\n",
       "American Indian or Alaska Native      3\n",
       "Asian                                29\n",
       "Black or African American            80\n",
       "Hispanic                              1\n",
       "Two or more races                    11\n",
       "White                               187\n",
       "Name: Employee_Name, dtype: int64"
      ]
     },
     "execution_count": 33,
     "metadata": {},
     "output_type": "execute_result"
    }
   ],
   "source": [
    "df.groupby('RaceDesc')['Employee_Name'].count()"
   ]
  },
  {
   "cell_type": "code",
   "execution_count": null,
   "metadata": {},
   "outputs": [],
   "source": [
    "df.groupby('hi')"
   ]
  },
  {
   "cell_type": "code",
   "execution_count": 19,
   "metadata": {},
   "outputs": [
    {
     "data": {
      "text/plain": [
       "<AxesSubplot:xlabel='Absences', ylabel='count'>"
      ]
     },
     "execution_count": 19,
     "metadata": {},
     "output_type": "execute_result"
    },
    {
     "data": {
      "image/png": "[encoded data removed]",
      "text/plain": [
       "<Figure size 432x288 with 1 Axes>"
      ]
     },
     "metadata": {
      "needs_background": "light"
     },
     "output_type": "display_data"
    }
   ],
   "source": [
    "sns.countplot(x='Absences',hue='MarriedID',data=df)"
   ]
  },
  {
   "cell_type": "code",
   "execution_count": 37,
   "metadata": {},
   "outputs": [
    {
     "ename": "KeyError",
     "evalue": "'Pe'",
     "output_type": "error",
     "traceback": [
      "\u001b[0;31m---------------------------------------------------------------------------\u001b[0m",
      "\u001b[0;31mKeyError\u001b[0m                                  Traceback (most recent call last)",
      "\u001b[0;32m<ipython-input-37-08174181e995>\u001b[0m in \u001b[0;36m<module>\u001b[0;34m\u001b[0m\n\u001b[0;32m----> 1\u001b[0;31m \u001b[0mdf\u001b[0m\u001b[0;34m.\u001b[0m\u001b[0mgroupby\u001b[0m\u001b[0;34m(\u001b[0m\u001b[0;34m'Pe'\u001b[0m\u001b[0;34m)\u001b[0m\u001b[0;34m\u001b[0m\u001b[0;34m\u001b[0m\u001b[0m\n\u001b[0m",
      "\u001b[0;32m~/opt/miniconda3/lib/python3.8/site-packages/pandas/core/frame.py\u001b[0m in \u001b[0;36mgroupby\u001b[0;34m(self, by, axis, level, as_index, sort, group_keys, squeeze, observed, dropna)\u001b[0m\n\u001b[1;32m   6715\u001b[0m         \u001b[0maxis\u001b[0m \u001b[0;34m=\u001b[0m \u001b[0mself\u001b[0m\u001b[0;34m.\u001b[0m\u001b[0m_get_axis_number\u001b[0m\u001b[0;34m(\u001b[0m\u001b[0maxis\u001b[0m\u001b[0;34m)\u001b[0m\u001b[0;34m\u001b[0m\u001b[0;34m\u001b[0m\u001b[0m\n\u001b[1;32m   6716\u001b[0m \u001b[0;34m\u001b[0m\u001b[0m\n\u001b[0;32m-> 6717\u001b[0;31m         return DataFrameGroupBy(\n\u001b[0m\u001b[1;32m   6718\u001b[0m             \u001b[0mobj\u001b[0m\u001b[0;34m=\u001b[0m\u001b[0mself\u001b[0m\u001b[0;34m,\u001b[0m\u001b[0;34m\u001b[0m\u001b[0;34m\u001b[0m\u001b[0m\n\u001b[1;32m   6719\u001b[0m             \u001b[0mkeys\u001b[0m\u001b[0;34m=\u001b[0m\u001b[0mby\u001b[0m\u001b[0;34m,\u001b[0m\u001b[0;34m\u001b[0m\u001b[0;34m\u001b[0m\u001b[0m\n",
      "\u001b[0;32m~/opt/miniconda3/lib/python3.8/site-packages/pandas/core/groupby/groupby.py\u001b[0m in \u001b[0;36m__init__\u001b[0;34m(self, obj, keys, axis, level, grouper, exclusions, selection, as_index, sort, group_keys, squeeze, observed, mutated, dropna)\u001b[0m\n\u001b[1;32m    558\u001b[0m             \u001b[0;32mfrom\u001b[0m \u001b[0mpandas\u001b[0m\u001b[0;34m.\u001b[0m\u001b[0mcore\u001b[0m\u001b[0;34m.\u001b[0m\u001b[0mgroupby\u001b[0m\u001b[0;34m.\u001b[0m\u001b[0mgrouper\u001b[0m \u001b[0;32mimport\u001b[0m \u001b[0mget_grouper\u001b[0m\u001b[0;34m\u001b[0m\u001b[0;34m\u001b[0m\u001b[0m\n\u001b[1;32m    559\u001b[0m \u001b[0;34m\u001b[0m\u001b[0m\n\u001b[0;32m--> 560\u001b[0;31m             grouper, exclusions, obj = get_grouper(\n\u001b[0m\u001b[1;32m    561\u001b[0m                 \u001b[0mobj\u001b[0m\u001b[0;34m,\u001b[0m\u001b[0;34m\u001b[0m\u001b[0;34m\u001b[0m\u001b[0m\n\u001b[1;32m    562\u001b[0m                 \u001b[0mkeys\u001b[0m\u001b[0;34m,\u001b[0m\u001b[0;34m\u001b[0m\u001b[0;34m\u001b[0m\u001b[0m\n",
      "\u001b[0;32m~/opt/miniconda3/lib/python3.8/site-packages/pandas/core/groupby/grouper.py\u001b[0m in \u001b[0;36mget_grouper\u001b[0;34m(obj, key, axis, level, sort, observed, mutated, validate, dropna)\u001b[0m\n\u001b[1;32m    809\u001b[0m                 \u001b[0min_axis\u001b[0m\u001b[0;34m,\u001b[0m \u001b[0mname\u001b[0m\u001b[0;34m,\u001b[0m \u001b[0mlevel\u001b[0m\u001b[0;34m,\u001b[0m \u001b[0mgpr\u001b[0m \u001b[0;34m=\u001b[0m \u001b[0;32mFalse\u001b[0m\u001b[0;34m,\u001b[0m \u001b[0;32mNone\u001b[0m\u001b[0;34m,\u001b[0m \u001b[0mgpr\u001b[0m\u001b[0;34m,\u001b[0m \u001b[0;32mNone\u001b[0m\u001b[0;34m\u001b[0m\u001b[0;34m\u001b[0m\u001b[0m\n\u001b[1;32m    810\u001b[0m             \u001b[0;32melse\u001b[0m\u001b[0;34m:\u001b[0m\u001b[0;34m\u001b[0m\u001b[0;34m\u001b[0m\u001b[0m\n\u001b[0;32m--> 811\u001b[0;31m                 \u001b[0;32mraise\u001b[0m \u001b[0mKeyError\u001b[0m\u001b[0;34m(\u001b[0m\u001b[0mgpr\u001b[0m\u001b[0;34m)\u001b[0m\u001b[0;34m\u001b[0m\u001b[0;34m\u001b[0m\u001b[0m\n\u001b[0m\u001b[1;32m    812\u001b[0m         \u001b[0;32melif\u001b[0m \u001b[0misinstance\u001b[0m\u001b[0;34m(\u001b[0m\u001b[0mgpr\u001b[0m\u001b[0;34m,\u001b[0m \u001b[0mGrouper\u001b[0m\u001b[0;34m)\u001b[0m \u001b[0;32mand\u001b[0m \u001b[0mgpr\u001b[0m\u001b[0;34m.\u001b[0m\u001b[0mkey\u001b[0m \u001b[0;32mis\u001b[0m \u001b[0;32mnot\u001b[0m \u001b[0;32mNone\u001b[0m\u001b[0;34m:\u001b[0m\u001b[0;34m\u001b[0m\u001b[0;34m\u001b[0m\u001b[0m\n\u001b[1;32m    813\u001b[0m             \u001b[0;31m# Add key to exclusions\u001b[0m\u001b[0;34m\u001b[0m\u001b[0;34m\u001b[0m\u001b[0;34m\u001b[0m\u001b[0m\n",
      "\u001b[0;31mKeyError\u001b[0m: 'Pe'"
     ]
    }
   ],
   "source": [
    "df.groupby('Pe')"
   ]
  },
  {
   "cell_type": "code",
   "execution_count": 59,
   "metadata": {},
   "outputs": [
    {
     "ename": "SyntaxError",
     "evalue": "invalid syntax (<ipython-input-59-dac18dfe3868>, line 1)",
     "output_type": "error",
     "traceback": [
      "\u001b[0;36m  File \u001b[0;32m\"<ipython-input-59-dac18dfe3868>\"\u001b[0;36m, line \u001b[0;32m1\u001b[0m\n\u001b[0;31m    190 and above. Most people being terminated.\u001b[0m\n\u001b[0m                        ^\u001b[0m\n\u001b[0;31mSyntaxError\u001b[0m\u001b[0;31m:\u001b[0m invalid syntax\n"
     ]
    }
   ],
   "source": [
    "190 and above. Most people being terminated.\n",
    "1. \n",
    "2. Group by manager and count how many are terminated.\n",
    "3. Who are referring to more?"
   ]
  },
  {
   "cell_type": "code",
   "execution_count": 61,
   "metadata": {},
   "outputs": [
    {
     "data": {
      "text/plain": [
       "<seaborn.axisgrid.FacetGrid at 0x7f92d0f0f520>"
      ]
     },
     "execution_count": 61,
     "metadata": {},
     "output_type": "execute_result"
    },
    {
     "data": {
      "image/png": "[encoded data removed]",
      "text/plain": [
       "<Figure size 360x360 with 1 Axes>"
      ]
     },
     "metadata": {
      "needs_background": "light"
     },
     "output_type": "display_data"
    }
   ],
   "source": [
    "sns.relplot(x='RaceDesc', y='RecruitmentSource', data=df, size_norm=30)"
   ]
  },
  {
   "cell_type": "code",
   "execution_count": 58,
   "metadata": {},
   "outputs": [
    {
     "data": {
      "text/plain": [
       "RaceDesc                          RecruitmentSource      \n",
       "American Indian or Alaska Native  Google Search               1\n",
       "                                  Indeed                      1\n",
       "                                  LinkedIn                    1\n",
       "Asian                             CareerBuilder               2\n",
       "                                  Employee Referral           1\n",
       "                                  Google Search               7\n",
       "                                  Indeed                     10\n",
       "                                  LinkedIn                    8\n",
       "                                  Website                     1\n",
       "Black or African American         CareerBuilder               5\n",
       "                                  Diversity Job Fair         29\n",
       "                                  Employee Referral           5\n",
       "                                  Google Search               4\n",
       "                                  Indeed                     17\n",
       "                                  LinkedIn                   16\n",
       "                                  Website                     4\n",
       "Hispanic                          Indeed                      1\n",
       "Two or more races                 Google Search               2\n",
       "                                  Indeed                      4\n",
       "                                  LinkedIn                    4\n",
       "                                  Website                     1\n",
       "White                             CareerBuilder              16\n",
       "                                  Employee Referral          25\n",
       "                                  Google Search              35\n",
       "                                  Indeed                     54\n",
       "                                  LinkedIn                   47\n",
       "                                  On-line Web application     1\n",
       "                                  Other                       2\n",
       "                                  Website                     7\n",
       "Name: Employee_Name, dtype: int64"
      ]
     },
     "execution_count": 58,
     "metadata": {},
     "output_type": "execute_result"
    }
   ],
   "source": [
    "df.groupby(['RaceDesc','RecruitmentSource'])['Employee_Name'].count()"
   ]
  },
  {
   "cell_type": "code",
   "execution_count": 54,
   "metadata": {},
   "outputs": [],
   "source": [
    "pd.DataFrame.groupby?"
   ]
  },
  {
   "cell_type": "code",
   "execution_count": 73,
   "metadata": {},
   "outputs": [
    {
     "data": {
      "text/plain": [
       "3 N/A-StillEmployed                   161\n",
       "4 N/A-StillEmployed                    29\n",
       "3 Another position                     17\n",
       "3 unhappy                              10\n",
       "3 more money                            9\n",
       "1 N/A-StillEmployed                     9\n",
       "3 hours                                 8\n",
       "2 N/A-StillEmployed                     8\n",
       "3 career change                         6\n",
       "3 relocation out of area                5\n",
       "3 return to school                      5\n",
       "3 attendance                            4\n",
       "3 no-call, no-show                      3\n",
       "2 attendance                            3\n",
       "3 retiring                              3\n",
       "3 medical issues                        3\n",
       "3 military                              3\n",
       "4 more money                            2\n",
       "4 Another position                      2\n",
       "3 performance                           2\n",
       "2 unhappy                               2\n",
       "3 maternity leave - did not return      2\n",
       "2 career change                         2\n",
       "3 Learned that he is a gangster         1\n",
       "3 Fatal attraction                      1\n",
       "1 career change                         1\n",
       "1 unhappy                               1\n",
       "2 no-call, no-show                      1\n",
       "4 unhappy                               1\n",
       "4 maternity leave - did not return      1\n",
       "1 performance                           1\n",
       "2 military                              1\n",
       "1 Another position                      1\n",
       "4 retiring                              1\n",
       "2 performance                           1\n",
       "4 gross misconduct                      1\n",
       "Name: combined, dtype: int64"
      ]
     },
     "execution_count": 73,
     "metadata": {},
     "output_type": "execute_result"
    }
   ],
   "source": [
    "data=df\n",
    "data['combined'] = data['PerfScoreID'].astype(str)+' '+data['TermReason']\n",
    "data.combined.value_counts()"
   ]
  }
 ],
 "metadata": {
  "kernelspec": {
   "display_name": "Python 3",
   "language": "python",
   "name": "python3"
  },
  "language_info": {
   "codemirror_mode": {
    "name": "ipython",
    "version": 3
   },
   "file_extension": ".py",
   "mimetype": "text/x-python",
   "name": "python",
   "nbconvert_exporter": "python",
   "pygments_lexer": "ipython3",
   "version": "3.8.5"
  }
 },
 "nbformat": 4,
 "nbformat_minor": 4
}
