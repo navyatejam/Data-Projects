{
 "cells": [
  {
   "cell_type": "code",
   "execution_count": 23,
   "metadata": {},
   "outputs": [],
   "source": [
    "import pandas as pd\n",
    "from bs4 import BeautifulSoup\n",
    "import requests"
   ]
  },
  {
   "cell_type": "code",
   "execution_count": 29,
   "metadata": {},
   "outputs": [],
   "source": [
    "page = requests.get('https://en.wikipedia.org/wiki/Category:Lists_of_Telugu_films_by_year').content"
   ]
  },
  {
   "cell_type": "code",
   "execution_count": 36,
   "metadata": {},
   "outputs": [],
   "source": [
    "soup = BeautifulSoup(page,'lxml');soup\n",
    "#Collect the list of links to all telugu movie pages by year\n",
    "movie_year_links=[]\n",
    "links = soup.find_all('a');\n",
    "for link in links:\n",
    "    if \"List of Telugu films of \" in link.text:\n",
    "        movie_year_links.append('https://en.wikipedia.org/'+link.get('href'))\n",
    "\n",
    "\n"
   ]
  },
  {
   "cell_type": "code",
   "execution_count": 104,
   "metadata": {},
   "outputs": [
    {
     "name": "stdout",
     "output_type": "stream",
     "text": [
      "Processing https://en.wikipedia.org//wiki/List_of_Telugu_films_of_1940\n",
      "Processing https://en.wikipedia.org//wiki/List_of_Telugu_films_of_1941\n",
      "Processing https://en.wikipedia.org//wiki/List_of_Telugu_films_of_1942\n",
      "Processing https://en.wikipedia.org//wiki/List_of_Telugu_films_of_1943\n",
      "Processing https://en.wikipedia.org//wiki/List_of_Telugu_films_of_1944\n",
      "Processing https://en.wikipedia.org//wiki/List_of_Telugu_films_of_1945\n",
      "Processing https://en.wikipedia.org//wiki/List_of_Telugu_films_of_1946\n",
      "Processing https://en.wikipedia.org//wiki/List_of_Telugu_films_of_1947\n",
      "Processing https://en.wikipedia.org//wiki/List_of_Telugu_films_of_1948\n",
      "Processing https://en.wikipedia.org//wiki/List_of_Telugu_films_of_1949\n",
      "Processing https://en.wikipedia.org//wiki/List_of_Telugu_films_of_1950\n",
      "Processing https://en.wikipedia.org//wiki/List_of_Telugu_films_of_1951\n",
      "Processing https://en.wikipedia.org//wiki/List_of_Telugu_films_of_1952\n",
      "Processing https://en.wikipedia.org//wiki/List_of_Telugu_films_of_1953\n",
      "Processing https://en.wikipedia.org//wiki/List_of_Telugu_films_of_1954\n",
      "Processing https://en.wikipedia.org//wiki/List_of_Telugu_films_of_1955\n",
      "Processing https://en.wikipedia.org//wiki/List_of_Telugu_films_of_1956\n",
      "Processing https://en.wikipedia.org//wiki/List_of_Telugu_films_of_1957\n",
      "Processing https://en.wikipedia.org//wiki/List_of_Telugu_films_of_1958\n",
      "Processing https://en.wikipedia.org//wiki/List_of_Telugu_films_of_1959\n",
      "Processing https://en.wikipedia.org//wiki/List_of_Telugu_films_of_1960\n",
      "Processing https://en.wikipedia.org//wiki/List_of_Telugu_films_of_1961\n",
      "Processing https://en.wikipedia.org//wiki/List_of_Telugu_films_of_1962\n",
      "Processing https://en.wikipedia.org//wiki/List_of_Telugu_films_of_1963\n",
      "Processing https://en.wikipedia.org//wiki/List_of_Telugu_films_of_1964\n",
      "Processing https://en.wikipedia.org//wiki/List_of_Telugu_films_of_1965\n",
      "Processing https://en.wikipedia.org//wiki/List_of_Telugu_films_of_1966\n",
      "Processing https://en.wikipedia.org//wiki/List_of_Telugu_films_of_1967\n",
      "Processing https://en.wikipedia.org//wiki/List_of_Telugu_films_of_1968\n",
      "Processing https://en.wikipedia.org//wiki/List_of_Telugu_films_of_1969\n",
      "Processing https://en.wikipedia.org//wiki/List_of_Telugu_films_of_1970\n",
      "Processing https://en.wikipedia.org//wiki/List_of_Telugu_films_of_1971\n",
      "Processing https://en.wikipedia.org//wiki/List_of_Telugu_films_of_1972\n",
      "Processing https://en.wikipedia.org//wiki/List_of_Telugu_films_of_1973\n",
      "Processing https://en.wikipedia.org//wiki/List_of_Telugu_films_of_1974\n",
      "Processing https://en.wikipedia.org//wiki/List_of_Telugu_films_of_1975\n",
      "Processing https://en.wikipedia.org//wiki/List_of_Telugu_films_of_1976\n",
      "Processing https://en.wikipedia.org//wiki/List_of_Telugu_films_of_1977\n",
      "Processing https://en.wikipedia.org//wiki/List_of_Telugu_films_of_1978\n",
      "Processing https://en.wikipedia.org//wiki/List_of_Telugu_films_of_1979\n",
      "Processing https://en.wikipedia.org//wiki/List_of_Telugu_films_of_1980\n",
      "Processing https://en.wikipedia.org//wiki/List_of_Telugu_films_of_1981\n",
      "Processing https://en.wikipedia.org//wiki/List_of_Telugu_films_of_1982\n",
      "Processing https://en.wikipedia.org//wiki/List_of_Telugu_films_of_1983\n",
      "Processing https://en.wikipedia.org//wiki/List_of_Telugu_films_of_1984\n",
      "Processing https://en.wikipedia.org//wiki/List_of_Telugu_films_of_1985\n",
      "Processing https://en.wikipedia.org//wiki/List_of_Telugu_films_of_1986\n",
      "Processing https://en.wikipedia.org//wiki/List_of_Telugu_films_of_1987\n",
      "Processing https://en.wikipedia.org//wiki/List_of_Telugu_films_of_1988\n",
      "Processing https://en.wikipedia.org//wiki/List_of_Telugu_films_of_1989\n",
      "Processing https://en.wikipedia.org//wiki/List_of_Telugu_films_of_1990\n",
      "Processing https://en.wikipedia.org//wiki/List_of_Telugu_films_of_1991\n",
      "Processing https://en.wikipedia.org//wiki/List_of_Telugu_films_of_1992\n",
      "Processing https://en.wikipedia.org//wiki/List_of_Telugu_films_of_1993\n",
      "Processing https://en.wikipedia.org//wiki/List_of_Telugu_films_of_1994\n",
      "Processing https://en.wikipedia.org//wiki/List_of_Telugu_films_of_1995\n",
      "Processing https://en.wikipedia.org//wiki/List_of_Telugu_films_of_1996\n",
      "Processing https://en.wikipedia.org//wiki/List_of_Telugu_films_of_1997\n",
      "Processing https://en.wikipedia.org//wiki/List_of_Telugu_films_of_1998\n",
      "Processing https://en.wikipedia.org//wiki/List_of_Telugu_films_of_1999\n",
      "Processing https://en.wikipedia.org//wiki/List_of_Telugu_films_of_2000\n",
      "Processing https://en.wikipedia.org//wiki/List_of_Telugu_films_of_2001\n",
      "Processing https://en.wikipedia.org//wiki/List_of_Telugu_films_of_2002\n",
      "Processing https://en.wikipedia.org//wiki/List_of_Telugu_films_of_2003\n",
      "Processing https://en.wikipedia.org//wiki/List_of_Telugu_films_of_2004\n",
      "Processing https://en.wikipedia.org//wiki/List_of_Telugu_films_of_2005\n",
      "Processing https://en.wikipedia.org//wiki/List_of_Telugu_films_of_2006\n",
      "Processing https://en.wikipedia.org//wiki/List_of_Telugu_films_of_2007\n",
      "Processing https://en.wikipedia.org//wiki/List_of_Telugu_films_of_2008\n",
      "Processing https://en.wikipedia.org//wiki/List_of_Telugu_films_of_2009\n",
      "Processing https://en.wikipedia.org//wiki/List_of_Telugu_films_of_2010\n",
      "Processing https://en.wikipedia.org//wiki/List_of_Telugu_films_of_2011\n",
      "Processing https://en.wikipedia.org//wiki/List_of_Telugu_films_of_2012\n",
      "Processing https://en.wikipedia.org//wiki/List_of_Telugu_films_of_2013\n",
      "Processing https://en.wikipedia.org//wiki/List_of_Telugu_films_of_2014\n",
      "Processing https://en.wikipedia.org//wiki/List_of_Telugu_films_of_2015\n",
      "Processing https://en.wikipedia.org//wiki/List_of_Telugu_films_of_2016\n",
      "Processing https://en.wikipedia.org//wiki/List_of_Telugu_films_of_2017\n",
      "Processing https://en.wikipedia.org//wiki/List_of_Telugu_films_of_2018\n",
      "Processing https://en.wikipedia.org//wiki/List_of_Telugu_films_of_2019\n",
      "Processing https://en.wikipedia.org//wiki/List_of_Telugu_films_of_2020\n",
      "Processing https://en.wikipedia.org//wiki/List_of_Telugu_films_of_2021\n",
      "Processing https://en.wikipedia.org//wiki/List_of_Telugu_films_of_2022\n"
     ]
    }
   ],
   "source": [
    "dataframes = []\n",
    "for link in movie_year_links:\n",
    "    table_list = pd.read_html(link)\n",
    "    print('Processing',link)\n",
    "    for table in table_list:\n",
    "        if 'Cast' in table.columns:\n",
    "            dataframes.append(table)\n",
    "                                                                                                          "
   ]
  },
  {
   "cell_type": "code",
   "execution_count": 134,
   "metadata": {},
   "outputs": [
    {
     "data": {
      "text/plain": [
       "141"
      ]
     },
     "execution_count": 134,
     "metadata": {},
     "output_type": "execute_result"
    }
   ],
   "source": [
    "len(dataframes)"
   ]
  },
  {
   "cell_type": "code",
   "execution_count": 136,
   "metadata": {},
   "outputs": [
    {
     "data": {
      "text/plain": [
       "{'Title': 105,\n",
       " 'Director': 108,\n",
       " 'Cast': 109,\n",
       " 'Producer': 5,\n",
       " 'Genre': 80,\n",
       " 'Ref.': 11,\n",
       " 'Production': 14,\n",
       " 'Notes': 32,\n",
       " 'Composer': 5,\n",
       " 'Release Date': 1,\n",
       " 'Production company': 2,\n",
       " 'Release': 8,\n",
       " 'Music': 14,\n",
       " 'Unnamed: 6': 1,\n",
       " 'Music Director': 9,\n",
       " 'Music director': 10,\n",
       " 'Source': 9,\n",
       " ('Title', 'Title'): 32,\n",
       " ('Director(s)', 'Director(s)'): 22,\n",
       " ('Original film', 'Title'): 31,\n",
       " ('Original film', 'Language'): 32,\n",
       " ('Cast', 'Cast'): 32,\n",
       " ('Ref.', 'Ref.'): 32,\n",
       " 'Sources': 20,\n",
       " 'Production studio': 1,\n",
       " ('Opening', 'Opening'): 28,\n",
       " ('Director', 'Director'): 10,\n",
       " 'Box Office': 1,\n",
       " 'Film': 4,\n",
       " 'Verdict': 1,\n",
       " 'Number': 1,\n",
       " 'No.': 2,\n",
       " 'Original language': 1,\n",
       " 'Opening': 37,\n",
       " 'Opening.1': 37,\n",
       " 'Unnamed: 0': 6,\n",
       " 'Unnamed: 1': 6,\n",
       " 'Ref': 14,\n",
       " 'Unnamed: 8': 1,\n",
       " 'Unnamed: 9': 1,\n",
       " 'Produced by': 2,\n",
       " 'Starting': 1,\n",
       " 'Starting.1': 1,\n",
       " 'Production house': 5,\n",
       " 'Production House': 11,\n",
       " ('Original film', 'scop e=\"col\" | Title'): 1,\n",
       " ('Unnamed: 7_level_0', 'Unnamed: 7_level_1'): 1}"
      ]
     },
     "execution_count": 136,
     "metadata": {},
     "output_type": "execute_result"
    }
   ],
   "source": [
    "columns=dict()\n",
    "for df in dataframes:\n",
    "    for col in list(df.columns):\n",
    "        if col not in columns:\n",
    "            columns[col]=0\n",
    "        columns[col]+=1\n",
    "columns\n",
    "        "
   ]
  },
  {
   "cell_type": "markdown",
   "metadata": {},
   "source": [
    "#### Next job, make Title-like names into 'Title' and Cast-like names into 'Cast' after individually examining validity\n",
    "#### Then turn the Cast item which is one string, using .split(sep=',') into a list. Careful about leading and trailing spaces.\n",
    "#### Then build a dictionary with actor names and decide whether we want to store the movies they acted in as a dictionary or as a list\n",
    "#### Run a few sample queries and clean up."
   ]
  },
  {
   "cell_type": "code",
   "execution_count": 12,
   "metadata": {},
   "outputs": [],
   "source": [
    "main_df=df[2];main_df.head()\n",
    "f=lambda s: set(s.split(sep=','))\n",
    "main_df['Segmented_Cast']=main_df['Cast'].apply(f)"
   ]
  },
  {
   "cell_type": "code",
   "execution_count": 257,
   "metadata": {},
   "outputs": [],
   "source": [
    "aggregation=set()\n",
    "indiv_count=0\n",
    "for i in range(main_df.shape[0]):\n",
    "    indiv_count+=len(main_df['Segmented_Cast'][i])\n",
    "    aggregation=aggregation.union(main_df['Segmented_Cast'][i])"
   ]
  }
 ],
 "metadata": {
  "kernelspec": {
   "display_name": "Python 3",
   "language": "python",
   "name": "python3"
  },
  "language_info": {
   "codemirror_mode": {
    "name": "ipython",
    "version": 3
   },
   "file_extension": ".py",
   "mimetype": "text/x-python",
   "name": "python",
   "nbconvert_exporter": "python",
   "pygments_lexer": "ipython3",
   "version": "3.8.5"
  }
 },
 "nbformat": 4,
 "nbformat_minor": 4
}
